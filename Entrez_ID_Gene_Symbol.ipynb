{
 "cells": [
  {
   "cell_type": "code",
   "execution_count": 2,
   "id": "2a2f7a45-358e-4693-b83e-8d62d1061d1a",
   "metadata": {},
   "outputs": [],
   "source": [
    "##### Load Libraries for Conversion of Entrez Gene Id to Gene symbol ######\n",
    "source(\"/data/kumarr9/Priya_Project/nextflow/working_data/DGE/Load_package.R\")\n",
    "library(org.Hs.eg.db)\n",
    "library(annotate)"
   ]
  },
  {
   "cell_type": "code",
   "execution_count": 9,
   "id": "ea089e14-96e5-493c-a8bd-bb957de28080",
   "metadata": {},
   "outputs": [],
   "source": [
    "### Converting the ENTREZ ID to Gene Symbol ######\n",
    "library(org.Hs.eg.db)\n",
    "library(annotate)\n",
    "\n",
    "# 1. Read data and convert to character vector\n",
    "a <- read.csv(\"/data/kumarr9/KIF18A/TCGA/LUAD_TCGA_entrez_ID.csv\", header = TRUE)\n",
    "entrez_ids <- as.character(a$Entrez_Gene_Id)  # Convert to character vector\n",
    "\n",
    "# 2. Get gene symbols\n",
    "gene_symbols <- getSYMBOL(entrez_ids, data='org.Hs.eg')\n",
    "\n",
    "# 3. Combine results with original data\n",
    "result <- data.frame(Entrez_Gene_Id = a$Entrez_Gene_Id, \n",
    "                    Gene_Symbol = gene_symbols)\n",
    "\n",
    "# 4. Save/output (optional)\n",
    "write.csv(result, \"/data/kumarr9/KIF18A/TCGA/LUAD_TCGA_Entrez_to_Symbol.csv\", row.names = FALSE)\n"
   ]
  },
  {
   "cell_type": "code",
   "execution_count": 10,
   "id": "37872029-42ff-473a-909e-66f225026546",
   "metadata": {},
   "outputs": [
    {
     "name": "stderr",
     "output_type": "stream",
     "text": [
      "'select()' returned 1:many mapping between keys and columns\n",
      "\n"
     ]
    }
   ],
   "source": [
    "# Entrez Gene IDs to Ensembl IDs using org.Hs.eg.db in R:\n",
    "library(org.Hs.eg.db)\n",
    "\n",
    "# 1. Read your data (assuming same file structure)\n",
    "a <- read.csv(\"/data/kumarr9/KIF18A/TCGA/LUAD_TCGA_entrez_ID.csv\", header = TRUE)\n",
    "\n",
    "# 2. Convert Entrez to Ensembl ID\n",
    "result <- data.frame(\n",
    "  Entrez_Gene_Id = a$Entrez_Gene_Id,\n",
    "  Ensembl_ID = mapIds(org.Hs.eg.db,\n",
    "                     keys = as.character(a$Entrez_Gene_Id),\n",
    "                     column = \"ENSEMBL\",        # Key difference from SYMBOL\n",
    "                     keytype = \"ENTREZID\",\n",
    "                     multiVals = \"first\")       # Takes first match if multiple\n",
    ")\n",
    "\n",
    "# 3. Remove rows where Ensembl ID is NA (no mapping exists)\n",
    "result <- result[!is.na(result$Ensembl_ID), ]\n",
    "\n",
    "# 4. Save results\n",
    "write.csv(result, \"/data/kumarr9/KIF18A/TCGA/LUAD_TCGA_Entrez_to_Ensembl.csv\", row.names = FALSE)\n"
   ]
  },
  {
   "cell_type": "code",
   "execution_count": 11,
   "id": "43f7985d-85c3-4f44-8b48-36e551fc0915",
   "metadata": {},
   "outputs": [
    {
     "name": "stderr",
     "output_type": "stream",
     "text": [
      "'select()' returned 1:1 mapping between keys and columns\n",
      "\n",
      "'select()' returned 1:many mapping between keys and columns\n",
      "\n",
      "File saved successfully at:\n",
      "/data/kumarr9/KIF18A/TCGA/data_mrna_seq_fpkm_LUAD_TCGA_with_ids.tsv\n",
      "\n",
      "\n",
      "New columns added between Entrez_Gene_Id and sample columns.\n",
      "\n"
     ]
    }
   ],
   "source": [
    "###### Working on the entire dataset and adding the Gene symbol and Ensemble_ID to the entire dataset #####\n",
    "library(org.Hs.eg.db)\n",
    "library(dplyr)\n",
    "library(readr)\n",
    "\n",
    "# 1. Read the expression data file\n",
    "input_file <- \"/data/kumarr9/KIF18A/TCGA/data_mrna_seq_fpkm_LUAD_TCGA.txt\"\n",
    "output_file <- \"/data/kumarr9/KIF18A/TCGA/data_mrna_seq_fpkm_LUAD_TCGA_with_ids.tsv\"\n",
    "\n",
    "# Read the original data (tab-delimited, with header)\n",
    "exp_data <- read.delim(input_file, check.names = FALSE)\n",
    "\n",
    "# 2. Create mappings for both symbol and ensembl\n",
    "gene_mappings <- data.frame(\n",
    "  Entrez_Gene_Id = as.character(exp_data$Entrez_Gene_Id),\n",
    "  Gene_symbol = mapIds(org.Hs.eg.db,\n",
    "                      keys = as.character(exp_data$Entrez_Gene_Id),\n",
    "                      column = \"SYMBOL\",\n",
    "                      keytype = \"ENTREZID\",\n",
    "                      multiVals = \"first\"),\n",
    "  Ensembl_ID = mapIds(org.Hs.eg.db,\n",
    "                     keys = as.character(exp_data$Entrez_Gene_Id),\n",
    "                     column = \"ENSEMBL\",\n",
    "                     keytype = \"ENTREZID\",\n",
    "                     multiVals = \"first\"),\n",
    "  stringsAsFactors = FALSE\n",
    ")\n",
    "\n",
    "# 3. Merge with original data\n",
    "# First extract the sample columns (all columns except Entrez_Gene_Id)\n",
    "sample_cols <- setdiff(colnames(exp_data), \"Entrez_Gene_Id\")\n",
    "\n",
    "# Create new dataframe with desired column order\n",
    "final_data <- cbind(\n",
    "  Entrez_Gene_Id = exp_data$Entrez_Gene_Id,\n",
    "  gene_mappings[, c(\"Gene_symbol\", \"Ensembl_ID\")],\n",
    "  exp_data[, sample_cols]\n",
    ")\n",
    "\n",
    "# 4. Save as TSV\n",
    "write_tsv(final_data, output_file)\n",
    "\n",
    "# Print confirmation\n",
    "message(\"File saved successfully at:\\n\", output_file)\n",
    "message(\"\\nNew columns added between Entrez_Gene_Id and sample columns.\")\n"
   ]
  },
  {
   "cell_type": "code",
   "execution_count": null,
   "id": "aed0cab4-d01d-460d-8923-268574cd46da",
   "metadata": {},
   "outputs": [],
   "source": []
  }
 ],
 "metadata": {
  "kernelspec": {
   "display_name": "R/4.3",
   "language": "R",
   "name": "ir43"
  },
  "language_info": {
   "codemirror_mode": "r",
   "file_extension": ".r",
   "mimetype": "text/x-r-source",
   "name": "R",
   "pygments_lexer": "r",
   "version": "4.3.2"
  }
 },
 "nbformat": 4,
 "nbformat_minor": 5
}
